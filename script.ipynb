{
 "cells": [
  {
   "cell_type": "markdown",
   "metadata": {},
   "source": [
    "### "
   ]
  },
  {
   "cell_type": "markdown",
   "metadata": {},
   "source": [
    "---\n",
    "---\n",
    "---"
   ]
  },
  {
   "cell_type": "code",
   "execution_count": 25,
   "metadata": {},
   "outputs": [
    {
     "name": "stdout",
     "output_type": "stream",
     "text": [
      "absl-py==0.11.0\n",
      "argon2-cffi==20.1.0\n",
      "asn1crypto==0.24.0\n",
      "astunparse==1.6.3\n",
      "async-generator==1.10\n",
      "attrs==20.3.0\n",
      "backcall==0.2.0\n",
      "bleach==3.2.1\n",
      "cachetools==4.2.0\n",
      "certifi==2020.12.5\n",
      "cffi==1.14.4\n",
      "chardet==3.0.4\n",
      "cryptography==2.1.4\n",
      "cycler==0.10.0\n",
      "decorator==4.4.2\n",
      "defusedxml==0.6.0\n",
      "entrypoints==0.3\n",
      "et-xmlfile==1.1.0\n",
      "flatbuffers==1.12\n",
      "gast==0.3.3\n",
      "google-auth==1.24.0\n",
      "google-auth-oauthlib==0.4.2\n",
      "google-pasta==0.2.0\n",
      "grpcio==1.32.0\n",
      "h5py==2.10.0\n",
      "idna==2.6\n",
      "importlib-metadata==3.3.0\n",
      "ipykernel==5.1.1\n",
      "ipython==7.16.1\n",
      "ipython-genutils==0.2.0\n",
      "ipywidgets==7.5.1\n",
      "jedi==0.17.2\n",
      "Jinja2==2.11.2\n",
      "joblib==1.0.1\n",
      "jsonschema==3.2.0\n",
      "jupyter==1.0.0\n",
      "jupyter-client==6.1.7\n",
      "jupyter-console==6.2.0\n",
      "jupyter-core==4.7.0\n",
      "jupyter-http-over-ws==0.0.8\n",
      "jupyterlab-pygments==0.1.2\n",
      "Keras-Preprocessing==1.1.2\n",
      "keyring==10.6.0\n",
      "keyrings.alt==3.0\n",
      "kiwisolver==1.3.1\n",
      "Markdown==3.3.3\n",
      "MarkupSafe==1.1.1\n",
      "matplotlib==3.3.3\n",
      "mistune==0.8.4\n",
      "nbclient==0.5.1\n",
      "nbconvert==6.0.7\n",
      "nbformat==4.4.0\n",
      "nest-asyncio==1.4.3\n",
      "notebook==6.1.5\n",
      "numpy==1.19.4\n",
      "oauthlib==3.1.0\n",
      "openpyxl==3.0.7\n",
      "opt-einsum==3.3.0\n",
      "packaging==20.8\n",
      "pandas==1.1.5\n",
      "pandocfilters==1.4.3\n",
      "parso==0.7.1\n",
      "pexpect==4.8.0\n",
      "pickleshare==0.7.5\n",
      "Pillow==8.0.1\n",
      "prometheus-client==0.9.0\n",
      "prompt-toolkit==3.0.8\n",
      "protobuf==3.14.0\n",
      "ptyprocess==0.6.0\n",
      "pyasn1==0.4.8\n",
      "pyasn1-modules==0.2.8\n",
      "pycparser==2.20\n",
      "pycrypto==2.6.1\n",
      "Pygments==2.7.3\n",
      "pygobject==3.26.1\n",
      "pyparsing==2.4.7\n",
      "pyrsistent==0.17.3\n",
      "python-apt==1.6.5+ubuntu0.4\n",
      "python-dateutil==2.8.1\n",
      "pytz==2021.1\n",
      "pyxdg==0.25\n",
      "pyzmq==20.0.0\n",
      "qtconsole==5.0.1\n",
      "QtPy==1.9.0\n",
      "requests==2.25.0\n",
      "requests-oauthlib==1.3.0\n",
      "rsa==4.6\n",
      "scikit-learn==0.24.2\n",
      "scipy==1.5.4\n",
      "SecretStorage==2.3.1\n",
      "Send2Trash==1.5.0\n",
      "six==1.15.0\n",
      "sklearn==0.0\n",
      "tensorboard==2.4.0\n",
      "tensorboard-plugin-wit==1.7.0\n",
      "tensorflow-estimator==2.4.0rc0\n",
      "tensorflow-gpu==2.4.0\n",
      "termcolor==1.1.0\n",
      "terminado==0.9.1\n",
      "testpath==0.4.4\n",
      "threadpoolctl==2.1.0\n",
      "tornado==6.1\n",
      "traitlets==4.3.3\n",
      "typing-extensions==3.7.4.3\n",
      "urllib3==1.26.2\n",
      "wcwidth==0.2.5\n",
      "webencodings==0.5.1\n",
      "Werkzeug==1.0.1\n",
      "widgetsnbextension==3.5.1\n",
      "wrapt==1.12.1\n",
      "zipp==3.4.0\n",
      "Note: you may need to restart the kernel to use updated packages.\n"
     ]
    }
   ],
   "source": [
    "pip freeze"
   ]
  },
  {
   "cell_type": "markdown",
   "metadata": {},
   "source": [
    "#### This works if run with 'ipthon v_script.py'\n",
    "\n",
    "* All four trained models are in the directory __'./models905'__.  Note that these are directories.  Models can be loaded with \n",
    "``` model = tf.keras.models.load_model('dir_path')```\n",
    "    * do_dnn_model\n",
    "    * nh4_dnn_model \n",
    "    * no3_dnn_model  \n",
    "    * po4_dnn_model\n",
    "\n",
    "  \n",
    "\n",
    "* This directory contains the notebooks that build, train and save the models (using __'data905/training905.xlsx'__ for training data).\n",
    "    * model_builder_DO.ipynb  \n",
    "    * model_builder_NO3.ipynb\n",
    "    * model_builder_NH4.ipynb  \n",
    "    * model_builder_PO4.ipynb\n",
    "\n",
    "\n",
    "* The directory __'./val_predictions'__ contains the predictions for each target.  The features come from __'./data905/validation905.xlsx'__\n",
    "    * dnn_predicted_do.csv   \n",
    "    * dnn_predicted_no3.csv\n",
    "    * dnn_predicted_nh4.csv  \n",
    "    * dnn_predicted_po4.csv\n",
    "\n",
    "    \n",
    "\n",
    "\n",
    "\n",
    "\n",
    "\n",
    "\n"
   ]
  },
  {
   "cell_type": "markdown",
   "metadata": {},
   "source": [
    "##### Make sure we have these modules"
   ]
  },
  {
   "cell_type": "code",
   "execution_count": 1,
   "metadata": {
    "scrolled": true
   },
   "outputs": [
    {
     "name": "stdout",
     "output_type": "stream",
     "text": [
      "\u001b[33mWARNING: You are using pip version 20.2.4; however, version 21.1.2 is available.\n",
      "You should consider upgrading via the '/usr/bin/python3 -m pip install --upgrade pip' command.\u001b[0m\n",
      "\u001b[33mWARNING: You are using pip version 20.2.4; however, version 21.1.2 is available.\n",
      "You should consider upgrading via the '/usr/bin/python3 -m pip install --upgrade pip' command.\u001b[0m\n",
      "\u001b[33mWARNING: You are using pip version 20.2.4; however, version 21.1.2 is available.\n",
      "You should consider upgrading via the '/usr/bin/python3 -m pip install --upgrade pip' command.\u001b[0m\n"
     ]
    }
   ],
   "source": [
    "!pip install -q pandas\n",
    "!pip install -q sklearn\n",
    "!pip install -q openpyxl\n",
    "\n",
    "##### Imports\n",
    "\n",
    "import matplotlib.pyplot as plt\n",
    "import numpy as np\n",
    "import pandas as pd"
   ]
  },
  {
   "cell_type": "code",
   "execution_count": 2,
   "metadata": {},
   "outputs": [
    {
     "name": "stdout",
     "output_type": "stream",
     "text": [
      "tensor flow version is 2.4.0\n"
     ]
    }
   ],
   "source": [
    "np.set_printoptions(precision=3, suppress=True)\n",
    "\n",
    "import tensorflow as tf\n",
    "\n",
    "from tensorflow import keras\n",
    "from tensorflow.keras import layers\n",
    "from tensorflow.keras.layers.experimental import preprocessing\n",
    "\n",
    "print(f'tensor flow version is {tf.__version__}')"
   ]
  },
  {
   "cell_type": "code",
   "execution_count": 3,
   "metadata": {
    "scrolled": true
   },
   "outputs": [],
   "source": [
    "from sklearn.metrics import r2_score\n",
    "from sklearn.metrics import mean_absolute_error"
   ]
  },
  {
   "cell_type": "markdown",
   "metadata": {},
   "source": [
    "##### Prep GPU"
   ]
  },
  {
   "cell_type": "code",
   "execution_count": 4,
   "metadata": {
    "scrolled": true
   },
   "outputs": [
    {
     "name": "stdout",
     "output_type": "stream",
     "text": [
      "gpus ==> [PhysicalDevice(name='/physical_device:GPU:0', device_type='GPU')]\n"
     ]
    }
   ],
   "source": [
    "gpus = tf.config.experimental.list_physical_devices('GPU')\n",
    "for gpu in gpus:\n",
    "    tf.config.experimental.set_memory_growth(gpu, True)\n",
    "print(f'gpus ==> {gpus}')"
   ]
  },
  {
   "cell_type": "markdown",
   "metadata": {},
   "source": [
    "#### Some useful functions"
   ]
  },
  {
   "cell_type": "code",
   "execution_count": 5,
   "metadata": {},
   "outputs": [],
   "source": [
    "def build_and_compile_model(normalizer):\n",
    "  model = keras.Sequential([\n",
    "      normalizer,\n",
    "      layers.Dense(64, activation='relu'),\n",
    "      layers.Dense(64, activation='relu'),\n",
    "      layers.Dense(1)\n",
    "  ])\n",
    "\n",
    "  model.compile(loss='mean_absolute_error',\n",
    "                optimizer=tf.keras.optimizers.Adam(0.001))\n",
    "  return model\n",
    "\n",
    "def plot_loss(history, var_name):\n",
    "  plt.plot(history.history['loss'], label='loss')\n",
    "  plt.plot(history.history['val_loss'], label='val_loss')\n",
    "  # plt.ylim([0, 10])\n",
    "  plt.xlabel('Epoch')\n",
    "  plt.ylabel(f'Error [{var_name}]')\n",
    "  plt.legend()\n",
    "  plt.grid(True)"
   ]
  },
  {
   "cell_type": "markdown",
   "metadata": {},
   "source": [
    "---\n",
    "---\n",
    "---"
   ]
  },
  {
   "cell_type": "markdown",
   "metadata": {},
   "source": [
    "##### Get the validation data and examine"
   ]
  },
  {
   "cell_type": "code",
   "execution_count": 6,
   "metadata": {},
   "outputs": [],
   "source": [
    "val_data_path = \"data905/validation905.xlsx\""
   ]
  },
  {
   "cell_type": "code",
   "execution_count": 7,
   "metadata": {},
   "outputs": [
    {
     "name": "stdout",
     "output_type": "stream",
     "text": [
      "Loading validation data: data905/validation905.xlsx\n"
     ]
    }
   ],
   "source": [
    "print(f'Loading validation data: {val_data_path}')"
   ]
  },
  {
   "cell_type": "code",
   "execution_count": 8,
   "metadata": {},
   "outputs": [],
   "source": [
    "val_data = pd.read_excel(val_data_path,na_values=\"NaN\",  engine='openpyxl')"
   ]
  },
  {
   "cell_type": "code",
   "execution_count": 9,
   "metadata": {},
   "outputs": [
    {
     "name": "stdout",
     "output_type": "stream",
     "text": [
      "Done.\n"
     ]
    }
   ],
   "source": [
    "print('Done.')"
   ]
  },
  {
   "cell_type": "code",
   "execution_count": 10,
   "metadata": {},
   "outputs": [],
   "source": [
    "# val_data.head()"
   ]
  },
  {
   "cell_type": "code",
   "execution_count": 11,
   "metadata": {
    "scrolled": false
   },
   "outputs": [],
   "source": [
    "# for val in ['GHI', 'TEMP', 'PH',\n",
    "#        'TURB', 'SA DO', 'SA NO3', 'SA NH4', 'SA PO4']:\n",
    "#     val_data.plot(x='datetime', y=val, kind='scatter')"
   ]
  },
  {
   "cell_type": "code",
   "execution_count": 12,
   "metadata": {},
   "outputs": [],
   "source": [
    "#################################################################\n",
    "#  Beginning of DO\n",
    "#################################################################"
   ]
  },
  {
   "cell_type": "markdown",
   "metadata": {},
   "source": [
    "##### Predict DO"
   ]
  },
  {
   "cell_type": "code",
   "execution_count": 13,
   "metadata": {},
   "outputs": [
    {
     "name": "stdout",
     "output_type": "stream",
     "text": [
      "Beginning DO...\n",
      "Reloading model: models905/do_dnn_model...\n",
      "Done\n",
      "\n",
      "Predicting DO...\n",
      "Done\n",
      "r2 score:  -2.050688301584516\n",
      "mean abs. error:  1.8951666345132276\n",
      "Showing plot actual vs. predicted\n"
     ]
    },
    {
     "data": {
      "image/png": "[encoded data removed]",
      "text/plain": [
       "<Figure size 432x288 with 1 Axes>"
      ]
     },
     "metadata": {
      "needs_background": "light"
     },
     "output_type": "display_data"
    },
    {
     "name": "stdout",
     "output_type": "stream",
     "text": [
      "Target DO done.\n",
      "\n"
     ]
    }
   ],
   "source": [
    "print('Beginning DO...')\n",
    "\n",
    "model_path = 'models905/do_dnn_model'\n",
    "\n",
    "print(f'Reloading model: {model_path}...')\n",
    "\n",
    "reload_do_dnn_model = tf.keras.models.load_model('models905/do_dnn_model')\n",
    "\n",
    "print('Done')\n",
    "print()\n",
    "\n",
    "print('Predicting DO...')\n",
    "\n",
    "do_features = [ 'Month', 'Day', 'Week', 'GHI', 'TEMP', 'PH', 'EC', 'TURB']\n",
    "\n",
    "do_val_yhats = reload_do_dnn_model.predict(val_data[do_features])\n",
    "\n",
    "print('Done')\n",
    "\n",
    "do_target = ['SA DO']\n",
    "\n",
    "print('r2 score: ', r2_score(val_data[do_target], do_val_yhats))\n",
    "\n",
    "print('mean abs. error: ', mean_absolute_error(val_data[do_target], do_val_yhats))\n",
    "\n",
    "# plt.scatter(val_data['datetime'], val_data[do_target], label='actual')\n",
    "# plt.scatter(val_data['datetime'], do_val_yhats, color='red', alpha=0.5, label='pred')\n",
    "# plt.xlabel('Actual DO')\n",
    "# plt.ylabel('Predicted [DO]')\n",
    "# plt.legend()\n",
    "# plt.grid(True)\n",
    "# plt.show()\n",
    "\n",
    "# Save the predictions along with time and actual DO.\n",
    "\n",
    "do_val_output = pd.DataFrame()\n",
    "do_val_output['datetime'] = val_data['datetime']\n",
    "do_val_output['predicted DO'] = do_val_yhats\n",
    "do_val_output['actual DO'] = val_data['SA DO']\n",
    "# print(do_val_output.head())\n",
    "\n",
    "print('Showing plot actual vs. predicted')\n",
    "\n",
    "do_val_output.plot(x='datetime', y=['predicted DO', 'actual DO'])\n",
    "plt.show(block=False)\n",
    "\n",
    "# do_val_output.to_csv('dnn_predicted_do.csv', index=False)\n",
    "\n",
    "print('Target DO done.')\n",
    "print()"
   ]
  },
  {
   "cell_type": "code",
   "execution_count": 14,
   "metadata": {},
   "outputs": [],
   "source": [
    "#################################################################\n",
    "#  End of DO\n",
    "#################################################################"
   ]
  },
  {
   "cell_type": "code",
   "execution_count": 15,
   "metadata": {},
   "outputs": [],
   "source": [
    "#################################################################\n",
    "#  Beginning of NO3\n",
    "#################################################################"
   ]
  },
  {
   "cell_type": "code",
   "execution_count": 16,
   "metadata": {
    "scrolled": false
   },
   "outputs": [
    {
     "name": "stdout",
     "output_type": "stream",
     "text": [
      "Beginning no3...\n",
      "Reloading model: models905/no3_dnn_model...\n",
      "Done\n",
      "\n",
      "Predicting no3...\n",
      "Done\n",
      "r2 score:  0.2299412216619442\n",
      "mean abs. error:  1.587766544953746\n",
      "Showing plot actual vs. predicted\n"
     ]
    },
    {
     "data": {
      "image/png": "[encoded data removed]",
      "text/plain": [
       "<Figure size 432x288 with 1 Axes>"
      ]
     },
     "metadata": {
      "needs_background": "light"
     },
     "output_type": "display_data"
    },
    {
     "name": "stdout",
     "output_type": "stream",
     "text": [
      "Target NO3 done.\n",
      "\n"
     ]
    }
   ],
   "source": [
    "print('Beginning no3...')\n",
    "\n",
    "model_path = 'models905/no3_dnn_model'\n",
    "\n",
    "print(f'Reloading model: {model_path}...')\n",
    "\n",
    "reload_no3_dnn_model = tf.keras.models.load_model('models905/no3_dnn_model')\n",
    "\n",
    "print('Done')\n",
    "print()\n",
    "\n",
    "print('Predicting no3...')\n",
    "\n",
    "no3_features = [ 'Month', 'Day', 'Week', 'GHI', 'TEMP', 'PH', 'EC', 'TURB', 'SA DO']\n",
    "no3_val_yhats = reload_no3_dnn_model.predict(val_data[no3_features])\n",
    "\n",
    "print('Done')\n",
    "\n",
    "no3_target = ['SA NO3']\n",
    "\n",
    "print('r2 score: ', r2_score(val_data[no3_target], no3_val_yhats))\n",
    "\n",
    "print('mean abs. error: ', mean_absolute_error(val_data[no3_target], no3_val_yhats))\n",
    "\n",
    "# plt.scatter(val_data['datetime'], val_data[no3_target], label='actual')\n",
    "# plt.scatter(val_data['datetime'], no3_val_yhats, color='red', alpha=0.5, label='pred')\n",
    "# plt.xlabel('Actual no3')\n",
    "# plt.ylabel('Predicted [no3]')\n",
    "# plt.legend()\n",
    "# plt.grid(True)\n",
    "# plt.show()\n",
    "\n",
    "# Save the predictions along with time and actual no3.\n",
    "\n",
    "no3_val_output = pd.DataFrame()\n",
    "no3_val_output['datetime'] = val_data['datetime']\n",
    "no3_val_output['predicted no3'] = no3_val_yhats\n",
    "no3_val_output['actual no3'] = val_data['SA NO3']\n",
    "# print(no3_val_output.head())\n",
    "\n",
    "print('Showing plot actual vs. predicted')\n",
    "\n",
    "no3_val_output.plot(x='datetime', y=['predicted no3', 'actual no3'])\n",
    "plt.show(block=False)\n",
    "\n",
    "# no3_val_output.to_csv('dnn_predicted_no3.csv', index=False)\n",
    "\n",
    "print('Target NO3 done.')\n",
    "print()"
   ]
  },
  {
   "cell_type": "code",
   "execution_count": 17,
   "metadata": {},
   "outputs": [],
   "source": [
    "#################################################################\n",
    "#  End of NO3\n",
    "#################################################################"
   ]
  },
  {
   "cell_type": "code",
   "execution_count": 18,
   "metadata": {},
   "outputs": [],
   "source": [
    "#################################################################\n",
    "#  Beginning of NH4\n",
    "#################################################################"
   ]
  },
  {
   "cell_type": "code",
   "execution_count": 19,
   "metadata": {
    "scrolled": true
   },
   "outputs": [
    {
     "name": "stdout",
     "output_type": "stream",
     "text": [
      "Beginning nh4...\n",
      "Reloading model: models905/nh4_dnn_model...\n",
      "Done\n",
      "\n",
      "Predicting nh4...\n",
      "Done\n",
      "r2 score:  -0.8804204584142983\n",
      "mean abs. error:  0.10870871962638337\n",
      "Showing plot actual vs. predicted\n"
     ]
    },
    {
     "data": {
      "image/png": "[encoded data removed]",
      "text/plain": [
       "<Figure size 432x288 with 1 Axes>"
      ]
     },
     "metadata": {
      "needs_background": "light"
     },
     "output_type": "display_data"
    },
    {
     "name": "stdout",
     "output_type": "stream",
     "text": [
      "Target NH4 done.\n",
      "\n"
     ]
    }
   ],
   "source": [
    "print('Beginning nh4...')\n",
    "\n",
    "model_path = 'models905/nh4_dnn_model'\n",
    "\n",
    "print(f'Reloading model: {model_path}...')\n",
    "\n",
    "reload_nh4_dnn_model = tf.keras.models.load_model('models905/nh4_dnn_model')\n",
    "\n",
    "print('Done')\n",
    "print()\n",
    "\n",
    "print('Predicting nh4...')\n",
    "\n",
    "nh4_features = [ 'Month', 'Day', 'Week', 'GHI', 'TEMP', \n",
    "                'PH', 'EC', 'TURB', 'SA DO', 'SA NO3']\n",
    "nh4_val_yhats = reload_nh4_dnn_model.predict(val_data[nh4_features])\n",
    "\n",
    "print('Done')\n",
    "\n",
    "nh4_target = ['SA NH4']\n",
    "\n",
    "print('r2 score: ', r2_score(val_data[nh4_target], nh4_val_yhats))\n",
    "\n",
    "print('mean abs. error: ', mean_absolute_error(val_data[nh4_target], nh4_val_yhats))\n",
    "\n",
    "# plt.scatter(val_data['datetime'], val_data[nh4_target], label='actual')\n",
    "# plt.scatter(val_data['datetime'], nh4_val_yhats, color='red', alpha=0.5, label='pred')\n",
    "# plt.xlabel('Actual nh4')\n",
    "# plt.ylabel('Predicted [nh4]')\n",
    "# plt.legend()\n",
    "# plt.grid(True)\n",
    "# plt.show()\n",
    "\n",
    "# Save the predictions along with time and actual nh4.\n",
    "\n",
    "nh4_val_output = pd.DataFrame()\n",
    "nh4_val_output['datetime'] = val_data['datetime']\n",
    "nh4_val_output['predicted nh4'] = nh4_val_yhats\n",
    "nh4_val_output['actual nh4'] = val_data['SA NH4']\n",
    "# print(nh4_val_output.head())\n",
    "\n",
    "print('Showing plot actual vs. predicted')\n",
    "\n",
    "nh4_val_output.plot(x='datetime', y=['predicted nh4', 'actual nh4'])\n",
    "plt.show(block=False)\n",
    "\n",
    "# nh4_val_output.to_csv('dnn_predicted_nh4.csv', index=False)\n",
    "\n",
    "print('Target NH4 done.')\n",
    "print()"
   ]
  },
  {
   "cell_type": "code",
   "execution_count": 20,
   "metadata": {},
   "outputs": [],
   "source": [
    "#################################################################\n",
    "#  End of NH4\n",
    "#################################################################"
   ]
  },
  {
   "cell_type": "code",
   "execution_count": 21,
   "metadata": {},
   "outputs": [],
   "source": [
    "#################################################################\n",
    "#  Beginning of PO4\n",
    "#################################################################"
   ]
  },
  {
   "cell_type": "code",
   "execution_count": 22,
   "metadata": {
    "scrolled": true
   },
   "outputs": [
    {
     "name": "stdout",
     "output_type": "stream",
     "text": [
      "Beginning po4...\n",
      "Reloading model: models905/po4_dnn_model...\n",
      "Done\n",
      "\n",
      "Predicting po4...\n",
      "Done\n",
      "r2 score:  -5.362994617271958\n",
      "mean abs. error:  0.1000375455225374\n",
      "Showing plot actual vs. predicted\n"
     ]
    },
    {
     "data": {
      "image/png": "[encoded data removed]",
      "text/plain": [
       "<Figure size 432x288 with 1 Axes>"
      ]
     },
     "metadata": {
      "needs_background": "light"
     },
     "output_type": "display_data"
    },
    {
     "name": "stdout",
     "output_type": "stream",
     "text": [
      "Target PO4 done.\n",
      "\n"
     ]
    }
   ],
   "source": [
    "print('Beginning po4...')\n",
    "\n",
    "model_path = 'models905/po4_dnn_model'\n",
    "\n",
    "print(f'Reloading model: {model_path}...')\n",
    "\n",
    "reload_po4_dnn_model = tf.keras.models.load_model('models905/po4_dnn_model')\n",
    "\n",
    "print('Done')\n",
    "print()\n",
    "\n",
    "print('Predicting po4...')\n",
    "\n",
    "po4_features = [ 'Month', 'Day', 'Week', 'GHI', 'TEMP', \n",
    "                'PH', 'EC', 'TURB', 'SA DO', 'SA NO3', 'SA NH4']\n",
    "po4_val_yhats = reload_po4_dnn_model.predict(val_data[po4_features])\n",
    "\n",
    "print('Done')\n",
    "\n",
    "po4_target = ['SA PO4']\n",
    "\n",
    "print('r2 score: ', r2_score(val_data[po4_target], po4_val_yhats))\n",
    "\n",
    "print('mean abs. error: ', mean_absolute_error(val_data[po4_target], po4_val_yhats))\n",
    "\n",
    "# plt.scatter(val_data['datetime'], val_data[po4_target], label='actual')\n",
    "# plt.scatter(val_data['datetime'], po4_val_yhats, color='red', alpha=0.5, label='pred')\n",
    "# plt.xlabel('Actual po4')\n",
    "# plt.ylabel('Predicted [po4]')\n",
    "# plt.legend()\n",
    "# plt.grid(True)\n",
    "# plt.show()\n",
    "\n",
    "# Save the predictions along with time and actual po4.\n",
    "\n",
    "po4_val_output = pd.DataFrame()\n",
    "po4_val_output['datetime'] = val_data['datetime']\n",
    "po4_val_output['predicted po4'] = po4_val_yhats\n",
    "po4_val_output['actual po4'] = val_data['SA PO4']\n",
    "# print(po4_val_output.head())\n",
    "\n",
    "print('Showing plot actual vs. predicted')\n",
    "\n",
    "po4_val_output.plot(x='datetime', y=['predicted po4', 'actual po4'])\n",
    "plt.show(block=False)\n",
    "\n",
    "# po4_val_output.to_csv('dnn_predicted_po4.csv', index=False)\n",
    "\n",
    "print('Target PO4 done.')\n",
    "print()"
   ]
  },
  {
   "cell_type": "code",
   "execution_count": null,
   "metadata": {},
   "outputs": [],
   "source": []
  },
  {
   "cell_type": "code",
   "execution_count": 23,
   "metadata": {},
   "outputs": [],
   "source": [
    "#################################################################\n",
    "#  End of PO4\n",
    "#################################################################"
   ]
  },
  {
   "cell_type": "code",
   "execution_count": 24,
   "metadata": {},
   "outputs": [
    {
     "name": "stdout",
     "output_type": "stream",
     "text": [
      "Press enter to dismiss charts.\n"
     ]
    }
   ],
   "source": [
    "x = input('Press enter to dismiss charts.')"
   ]
  },
  {
   "cell_type": "code",
   "execution_count": null,
   "metadata": {},
   "outputs": [],
   "source": []
  },
  {
   "cell_type": "code",
   "execution_count": null,
   "metadata": {},
   "outputs": [],
   "source": []
  },
  {
   "cell_type": "code",
   "execution_count": null,
   "metadata": {},
   "outputs": [],
   "source": []
  }
 ],
 "metadata": {
  "kernelspec": {
   "display_name": "Python 3",
   "language": "python",
   "name": "python3"
  },
  "language_info": {
   "codemirror_mode": {
    "name": "ipython",
    "version": 3
   },
   "file_extension": ".py",
   "mimetype": "text/x-python",
   "name": "python",
   "nbconvert_exporter": "python",
   "pygments_lexer": "ipython3",
   "version": "3.6.9"
  }
 },
 "nbformat": 4,
 "nbformat_minor": 2
}
